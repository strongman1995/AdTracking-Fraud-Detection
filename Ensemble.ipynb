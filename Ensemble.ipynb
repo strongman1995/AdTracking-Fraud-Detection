{
 "cells": [
  {
   "cell_type": "markdown",
   "metadata": {},
   "source": [
    "## Ensemble\n",
    "\n",
    "This notebook completed to ensemble 3 submissions based on 3 xgboost models, and 3 neural networks. "
   ]
  },
  {
   "cell_type": "code",
   "execution_count": null,
   "metadata": {
    "collapsed": false
   },
   "outputs": [],
   "source": [
    "import numpy as np # linear algebra\n",
    "import pandas as pd # data processing, CSV file I/O (e.g. pd.read_csv)\n",
    "\n",
    "# Input data files are available in the \"../input/\" directory.\n",
    "# For example, running this (by clicking run or pressing Shift+Enter) will list the files in the input directory\n",
    "\n",
    "import os\n",
    "\n",
    "# Any results you write to the current directory are saved as output.\n",
    "print(\"Reading the data...\\n\")\n",
    "\n",
    "df1 = pd.read_csv('./submission/y_pred1.csv')\n",
    "df2 = pd.read_csv('./submission/y_pred2.csv')\n",
    "df3 = pd.read_csv('./submission/y_pred3.csv')\n",
    "df4 = pd.read_csv('./submission/model_0.csv')"
   ]
  },
  {
   "cell_type": "code",
   "execution_count": null,
   "metadata": {
    "collapsed": false
   },
   "outputs": [],
   "source": [
    "df1.head()\n",
    "df3.head()\n",
    "# df3.iloc[:, 1:2]\n",
    "# df4.iloc[:,1:2]\n",
    "#"
   ]
  },
  {
   "cell_type": "code",
   "execution_count": null,
   "metadata": {
    "collapsed": false
   },
   "outputs": [],
   "source": [
    "models = { 'df1' :{ 'name':'dnn1',\n",
    "                    'score':81.9738,\n",
    "                    'df':df1 },\n",
    "#            'df2' :{ 'name':'dnn2',\n",
    "#                     'score':81.9694,\n",
    "#                     'df':df2 },\n",
    "#            'df3' :{ 'name':'dnn3',\n",
    "#                     'score':82.0703,\n",
    "#                     'df':df3 },\n",
    "          'df4' :{ 'name':'xgboost',\n",
    "                    'score':93.5107,\n",
    "                    'df':df4 }\n",
    "         }\n",
    "\n",
    "df1.head()         \n",
    "\n",
    "isa_lg = 0\n",
    "isa_hm = 0\n",
    "isa_am = 0\n",
    "isa_gm=0\n",
    "print(\"Blending...\\n\")\n",
    "for df in models.keys() : \n",
    "    if df == 'df4':\n",
    "        isa_lg += np.log(models[df]['df'].pred_prob_0)\n",
    "        isa_hm += 1/(models[df]['df'].pred_prob_0)\n",
    "        isa_am +=isa_am\n",
    "        isa_gm *= isa_gm\n",
    "    else:\n",
    "        isa_lg += np.log(models[df]['df'][u'0'])\n",
    "        isa_hm += 1/(models[df]['df'][u'0'])\n",
    "        isa_am +=isa_am\n",
    "        isa_gm *= isa_gm\n",
    "        \n",
    "isa_lg = np.exp(isa_lg/5)\n",
    "isa_hm = 5/isa_hm\n",
    "isa_am = isa_am/5\n",
    "isa_gm = (isa_gm)**(1/5)\n",
    "\n",
    "print(\"Isa log\\n\")\n",
    "print(isa_lg[:5])\n",
    "print()\n",
    "print(\"Isa harmo\\n\")\n",
    "print(isa_hm[:5])\n",
    "\n",
    "# sub_log = pd.DataFrame()\n",
    "# sub_log['click_id'] = df1['click_id']\n",
    "# sub_log['is_attributed'] = isa_lg\n",
    "# sub_log.head()\n",
    "\n",
    "# sub_hm = pd.DataFrame()\n",
    "# sub_hm['click_id'] = df1['click_id']\n",
    "# sub_hm['is_attributed'] = isa_hm\n",
    "# sub_hm.head()\n",
    "\n",
    "sub_fin=pd.DataFrame()\n",
    "#sub_fin['click_id']=df1['click_id']\n",
    "sub_fin['is_attributed']= (5*isa_lg+3*isa_hm+2*isa_am)/10\n",
    "\n",
    "print(\"Writing...\")\n",
    "# sub_log.to_csv('submission_log2.csv', index=False, float_format='%.9f')\n",
    "# sub_hm.to_csv('submission_hm2.csv', index=False, float_format='%.9f')\n",
    "sub_fin.to_csv('submission_esb_1x_1n.csv', index=False, float_format='%.9f')\n",
    "#sub_fin.to_csv('submission_esb_3n.csv', index=False, float_format='%.9f')\n",
    "print(\"DONE!\")"
   ]
  },
  {
   "cell_type": "code",
   "execution_count": null,
   "metadata": {
    "collapsed": false
   },
   "outputs": [],
   "source": [
    "sub_fin.head()\n"
   ]
  },
  {
   "cell_type": "markdown",
   "metadata": {},
   "source": [
    "可以根据几个结果 画一个对比图\n",
    "6根线：\n",
    "    3个xgb的结果\n",
    "    3个nn的结果\n",
    "3根线：\n",
    "    ensemble 3个xgb的结果\n",
    "    ensemble 3个nn的结果\n",
    "    ensemble 6个model的结果"
   ]
  }
 ],
 "metadata": {
  "kernelspec": {
   "display_name": "Python [conda env:snorpy3]",
   "language": "python",
   "name": "conda-env-snorpy3-py"
  },
  "language_info": {
   "codemirror_mode": {
    "name": "ipython",
    "version": 3
   },
   "file_extension": ".py",
   "mimetype": "text/x-python",
   "name": "python",
   "nbconvert_exporter": "python",
   "pygments_lexer": "ipython3",
   "version": "3.6.4"
  }
 },
 "nbformat": 4,
 "nbformat_minor": 0
}
